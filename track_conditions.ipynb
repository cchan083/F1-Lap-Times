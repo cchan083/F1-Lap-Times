{
 "cells": [
  {
   "cell_type": "markdown",
   "metadata": {},
   "source": [
    "# Retrieving track data from fastf1 library"
   ]
  },
  {
   "cell_type": "code",
   "execution_count": 1,
   "metadata": {},
   "outputs": [],
   "source": [
    "import pandas as pd\n",
    "import matplotlib.pyplot as plt\n",
    "import fastf1"
   ]
  },
  {
   "cell_type": "code",
   "execution_count": 9,
   "metadata": {},
   "outputs": [
    {
     "name": "stderr",
     "output_type": "stream",
     "text": [
      "core           INFO \tLoading data for Australian Grand Prix - Practice 1 [v3.5.3]\n",
      "req            INFO \tUsing cached data for session_info\n",
      "req            INFO \tUsing cached data for driver_info\n"
     ]
    },
    {
     "name": "stderr",
     "output_type": "stream",
     "text": [
      "req            INFO \tUsing cached data for session_status_data\n",
      "req            INFO \tUsing cached data for track_status_data\n",
      "req            INFO \tUsing cached data for _extended_timing_data\n",
      "req            INFO \tUsing cached data for timing_app_data\n",
      "core           INFO \tProcessing timing data...\n",
      "req            INFO \tUsing cached data for weather_data\n",
      "req            INFO \tUsing cached data for race_control_messages\n",
      "core           INFO \tFinished loading data for 20 drivers: ['1', '4', '5', '6', '7', '10', '12', '14', '16', '18', '22', '23', '27', '30', '31', '44', '55', '63', '81', '87']\n"
     ]
    },
    {
     "data": {
      "application/vnd.microsoft.datawrangler.viewer.v0+json": {
       "columns": [
        {
         "name": "index",
         "rawType": "int64",
         "type": "integer"
        },
        {
         "name": "Time",
         "rawType": "timedelta64[ns]",
         "type": "unknown"
        },
        {
         "name": "AirTemp",
         "rawType": "float64",
         "type": "float"
        },
        {
         "name": "Humidity",
         "rawType": "float64",
         "type": "float"
        },
        {
         "name": "Pressure",
         "rawType": "float64",
         "type": "float"
        },
        {
         "name": "Rainfall",
         "rawType": "bool",
         "type": "boolean"
        },
        {
         "name": "TrackTemp",
         "rawType": "float64",
         "type": "float"
        },
        {
         "name": "WindDirection",
         "rawType": "int64",
         "type": "integer"
        },
        {
         "name": "WindSpeed",
         "rawType": "float64",
         "type": "float"
        }
       ],
       "conversionMethod": "pd.DataFrame",
       "ref": "88ff0181-3027-4880-bc37-7e907e78bf21",
       "rows": [
        [
         "15",
         "0 days 00:15:44.766000",
         "24.5",
         "50.0",
         "1018.2",
         "False",
         "40.0",
         "129",
         "0.8"
        ],
        [
         "17",
         "0 days 00:17:44.769000",
         "24.6",
         "50.0",
         "1018.2",
         "False",
         "40.4",
         "0",
         "1.0"
        ],
        [
         "18",
         "0 days 00:18:44.792000",
         "24.7",
         "50.0",
         "1018.2",
         "False",
         "40.7",
         "243",
         "0.4"
        ],
        [
         "21",
         "0 days 00:21:44.771000",
         "24.5",
         "47.0",
         "1018.3",
         "False",
         "41.4",
         "157",
         "0.9"
        ],
        [
         "22",
         "0 days 00:22:44.795000",
         "24.5",
         "47.0",
         "1018.4",
         "False",
         "41.2",
         "219",
         "1.1"
        ],
        [
         "25",
         "0 days 00:25:44.784000",
         "24.8",
         "45.0",
         "1018.3",
         "False",
         "41.4",
         "96",
         "0.7"
        ],
        [
         "26",
         "0 days 00:26:44.813000",
         "24.8",
         "45.0",
         "1018.0",
         "False",
         "41.6",
         "121",
         "1.0"
        ],
        [
         "40",
         "0 days 00:40:44.919000",
         "24.3",
         "47.0",
         "1018.3",
         "False",
         "42.4",
         "260",
         "1.2"
        ],
        [
         "42",
         "0 days 00:42:44.963000",
         "24.4",
         "47.0",
         "1018.3",
         "False",
         "42.5",
         "92",
         "0.4"
        ],
        [
         "43",
         "0 days 00:43:44.959000",
         "24.4",
         "47.0",
         "1018.2",
         "False",
         "42.7",
         "121",
         "1.2"
        ],
        [
         "46",
         "0 days 00:46:45.005000",
         "24.2",
         "48.0",
         "1018.1",
         "False",
         "42.2",
         "169",
         "1.2"
        ],
        [
         "48",
         "0 days 00:48:45.025000",
         "24.2",
         "49.0",
         "1018.1",
         "False",
         "43.0",
         "183",
         "0.4"
        ],
        [
         "64",
         "0 days 01:04:45.132000",
         "24.0",
         "49.0",
         "1017.9",
         "False",
         "43.2",
         "232",
         "1.5"
        ],
        [
         "66",
         "0 days 01:06:45.133000",
         "24.2",
         "48.0",
         "1018.0",
         "False",
         "43.7",
         "98",
         "1.1"
        ],
        [
         "67",
         "0 days 01:07:45.160000",
         "24.3",
         "48.0",
         "1018.1",
         "False",
         "44.1",
         "132",
         "0.6"
        ],
        [
         "69",
         "0 days 01:09:45.190000",
         "24.5",
         "47.0",
         "1017.8",
         "False",
         "44.4",
         "116",
         "1.6"
        ],
        [
         "70",
         "0 days 01:10:45.199000",
         "24.6",
         "46.0",
         "1017.9",
         "False",
         "44.5",
         "276",
         "1.6"
        ],
        [
         "72",
         "0 days 01:12:45.197000",
         "24.6",
         "46.0",
         "1018.0",
         "False",
         "44.6",
         "153",
         "1.1"
        ],
        [
         "73",
         "0 days 01:13:45.199000",
         "24.5",
         "46.0",
         "1018.0",
         "False",
         "44.3",
         "180",
         "0.7"
        ],
        [
         "74",
         "0 days 01:14:45.225000",
         "24.5",
         "47.0",
         "1018.0",
         "False",
         "44.3",
         "141",
         "0.8"
        ],
        [
         "77",
         "0 days 01:17:45.260000",
         "24.6",
         "51.0",
         "1018.0",
         "False",
         "44.0",
         "113",
         "1.3"
        ],
        [
         "15",
         "0 days 00:15:44.766000",
         "24.5",
         "50.0",
         "1018.2",
         "False",
         "40.0",
         "129",
         "0.8"
        ],
        [
         "16",
         "0 days 00:16:44.768000",
         "24.5",
         "50.0",
         "1018.2",
         "False",
         "40.4",
         "266",
         "1.1"
        ],
        [
         "18",
         "0 days 00:18:44.792000",
         "24.7",
         "50.0",
         "1018.2",
         "False",
         "40.7",
         "243",
         "0.4"
        ],
        [
         "20",
         "0 days 00:20:44.793000",
         "24.5",
         "46.0",
         "1018.3",
         "False",
         "41.5",
         "168",
         "0.3"
        ],
        [
         "21",
         "0 days 00:21:44.771000",
         "24.5",
         "47.0",
         "1018.3",
         "False",
         "41.4",
         "157",
         "0.9"
        ],
        [
         "23",
         "0 days 00:23:44.786000",
         "24.5",
         "46.0",
         "1018.2",
         "False",
         "41.4",
         "278",
         "0.6"
        ],
        [
         "24",
         "0 days 00:24:44.785000",
         "24.7",
         "45.0",
         "1018.2",
         "False",
         "41.2",
         "126",
         "0.0"
        ],
        [
         "39",
         "0 days 00:39:44.918000",
         "24.3",
         "47.0",
         "1018.3",
         "False",
         "42.4",
         "180",
         "1.0"
        ],
        [
         "41",
         "0 days 00:41:44.935000",
         "24.3",
         "47.0",
         "1018.3",
         "False",
         "42.4",
         "0",
         "0.7"
        ],
        [
         "43",
         "0 days 00:43:44.959000",
         "24.4",
         "47.0",
         "1018.2",
         "False",
         "42.7",
         "121",
         "1.2"
        ],
        [
         "45",
         "0 days 00:45:44.968000",
         "24.1",
         "48.0",
         "1018.2",
         "False",
         "42.2",
         "115",
         "1.1"
        ],
        [
         "46",
         "0 days 00:46:45.005000",
         "24.2",
         "48.0",
         "1018.1",
         "False",
         "42.2",
         "169",
         "1.2"
        ],
        [
         "63",
         "0 days 01:03:45.132000",
         "24.0",
         "48.0",
         "1017.8",
         "False",
         "43.1",
         "101",
         "1.1"
        ],
        [
         "65",
         "0 days 01:05:45.136000",
         "24.0",
         "50.0",
         "1017.9",
         "False",
         "43.2",
         "0",
         "1.0"
        ],
        [
         "67",
         "0 days 01:07:45.160000",
         "24.3",
         "48.0",
         "1018.1",
         "False",
         "44.1",
         "132",
         "0.6"
        ],
        [
         "68",
         "0 days 01:08:45.181000",
         "24.5",
         "47.0",
         "1017.9",
         "False",
         "44.3",
         "180",
         "1.2"
        ],
        [
         "70",
         "0 days 01:10:45.199000",
         "24.6",
         "46.0",
         "1017.9",
         "False",
         "44.5",
         "276",
         "1.6"
        ],
        [
         "72",
         "0 days 01:12:45.197000",
         "24.6",
         "46.0",
         "1018.0",
         "False",
         "44.6",
         "153",
         "1.1"
        ],
        [
         "73",
         "0 days 01:13:45.199000",
         "24.5",
         "46.0",
         "1018.0",
         "False",
         "44.3",
         "180",
         "0.7"
        ],
        [
         "74",
         "0 days 01:14:45.225000",
         "24.5",
         "47.0",
         "1018.0",
         "False",
         "44.3",
         "141",
         "0.8"
        ],
        [
         "77",
         "0 days 01:17:45.260000",
         "24.6",
         "51.0",
         "1018.0",
         "False",
         "44.0",
         "113",
         "1.3"
        ],
        [
         "15",
         "0 days 00:15:44.766000",
         "24.5",
         "50.0",
         "1018.2",
         "False",
         "40.0",
         "129",
         "0.8"
        ],
        [
         "17",
         "0 days 00:17:44.769000",
         "24.6",
         "50.0",
         "1018.2",
         "False",
         "40.4",
         "0",
         "1.0"
        ],
        [
         "18",
         "0 days 00:18:44.792000",
         "24.7",
         "50.0",
         "1018.2",
         "False",
         "40.7",
         "243",
         "0.4"
        ],
        [
         "20",
         "0 days 00:20:44.793000",
         "24.5",
         "46.0",
         "1018.3",
         "False",
         "41.5",
         "168",
         "0.3"
        ],
        [
         "21",
         "0 days 00:21:44.771000",
         "24.5",
         "47.0",
         "1018.3",
         "False",
         "41.4",
         "157",
         "0.9"
        ],
        [
         "31",
         "0 days 00:31:44.860000",
         "24.8",
         "45.0",
         "1018.3",
         "False",
         "41.8",
         "139",
         "1.0"
        ],
        [
         "40",
         "0 days 00:40:44.919000",
         "24.3",
         "47.0",
         "1018.3",
         "False",
         "42.4",
         "260",
         "1.2"
        ],
        [
         "42",
         "0 days 00:42:44.963000",
         "24.4",
         "47.0",
         "1018.3",
         "False",
         "42.5",
         "92",
         "0.4"
        ]
       ],
       "shape": {
        "columns": 8,
        "rows": 421
       }
      },
      "text/html": [
       "<div>\n",
       "<style scoped>\n",
       "    .dataframe tbody tr th:only-of-type {\n",
       "        vertical-align: middle;\n",
       "    }\n",
       "\n",
       "    .dataframe tbody tr th {\n",
       "        vertical-align: top;\n",
       "    }\n",
       "\n",
       "    .dataframe thead th {\n",
       "        text-align: right;\n",
       "    }\n",
       "</style>\n",
       "<table border=\"1\" class=\"dataframe\">\n",
       "  <thead>\n",
       "    <tr style=\"text-align: right;\">\n",
       "      <th></th>\n",
       "      <th>Time</th>\n",
       "      <th>AirTemp</th>\n",
       "      <th>Humidity</th>\n",
       "      <th>Pressure</th>\n",
       "      <th>Rainfall</th>\n",
       "      <th>TrackTemp</th>\n",
       "      <th>WindDirection</th>\n",
       "      <th>WindSpeed</th>\n",
       "    </tr>\n",
       "  </thead>\n",
       "  <tbody>\n",
       "    <tr>\n",
       "      <th>15</th>\n",
       "      <td>0 days 00:15:44.766000</td>\n",
       "      <td>24.5</td>\n",
       "      <td>50.0</td>\n",
       "      <td>1018.2</td>\n",
       "      <td>False</td>\n",
       "      <td>40.0</td>\n",
       "      <td>129</td>\n",
       "      <td>0.8</td>\n",
       "    </tr>\n",
       "    <tr>\n",
       "      <th>17</th>\n",
       "      <td>0 days 00:17:44.769000</td>\n",
       "      <td>24.6</td>\n",
       "      <td>50.0</td>\n",
       "      <td>1018.2</td>\n",
       "      <td>False</td>\n",
       "      <td>40.4</td>\n",
       "      <td>0</td>\n",
       "      <td>1.0</td>\n",
       "    </tr>\n",
       "    <tr>\n",
       "      <th>18</th>\n",
       "      <td>0 days 00:18:44.792000</td>\n",
       "      <td>24.7</td>\n",
       "      <td>50.0</td>\n",
       "      <td>1018.2</td>\n",
       "      <td>False</td>\n",
       "      <td>40.7</td>\n",
       "      <td>243</td>\n",
       "      <td>0.4</td>\n",
       "    </tr>\n",
       "    <tr>\n",
       "      <th>21</th>\n",
       "      <td>0 days 00:21:44.771000</td>\n",
       "      <td>24.5</td>\n",
       "      <td>47.0</td>\n",
       "      <td>1018.3</td>\n",
       "      <td>False</td>\n",
       "      <td>41.4</td>\n",
       "      <td>157</td>\n",
       "      <td>0.9</td>\n",
       "    </tr>\n",
       "    <tr>\n",
       "      <th>22</th>\n",
       "      <td>0 days 00:22:44.795000</td>\n",
       "      <td>24.5</td>\n",
       "      <td>47.0</td>\n",
       "      <td>1018.4</td>\n",
       "      <td>False</td>\n",
       "      <td>41.2</td>\n",
       "      <td>219</td>\n",
       "      <td>1.1</td>\n",
       "    </tr>\n",
       "    <tr>\n",
       "      <th>...</th>\n",
       "      <td>...</td>\n",
       "      <td>...</td>\n",
       "      <td>...</td>\n",
       "      <td>...</td>\n",
       "      <td>...</td>\n",
       "      <td>...</td>\n",
       "      <td>...</td>\n",
       "      <td>...</td>\n",
       "    </tr>\n",
       "    <tr>\n",
       "      <th>27</th>\n",
       "      <td>0 days 00:27:44.847000</td>\n",
       "      <td>24.8</td>\n",
       "      <td>46.0</td>\n",
       "      <td>1018.2</td>\n",
       "      <td>False</td>\n",
       "      <td>41.3</td>\n",
       "      <td>185</td>\n",
       "      <td>0.8</td>\n",
       "    </tr>\n",
       "    <tr>\n",
       "      <th>29</th>\n",
       "      <td>0 days 00:29:44.848000</td>\n",
       "      <td>24.8</td>\n",
       "      <td>46.0</td>\n",
       "      <td>1018.3</td>\n",
       "      <td>False</td>\n",
       "      <td>41.5</td>\n",
       "      <td>127</td>\n",
       "      <td>0.5</td>\n",
       "    </tr>\n",
       "    <tr>\n",
       "      <th>31</th>\n",
       "      <td>0 days 00:31:44.860000</td>\n",
       "      <td>24.8</td>\n",
       "      <td>45.0</td>\n",
       "      <td>1018.3</td>\n",
       "      <td>False</td>\n",
       "      <td>41.8</td>\n",
       "      <td>139</td>\n",
       "      <td>1.0</td>\n",
       "    </tr>\n",
       "    <tr>\n",
       "      <th>49</th>\n",
       "      <td>0 days 00:49:45.019000</td>\n",
       "      <td>24.3</td>\n",
       "      <td>48.0</td>\n",
       "      <td>1018.2</td>\n",
       "      <td>False</td>\n",
       "      <td>42.5</td>\n",
       "      <td>0</td>\n",
       "      <td>0.7</td>\n",
       "    </tr>\n",
       "    <tr>\n",
       "      <th>51</th>\n",
       "      <td>0 days 00:51:45.067000</td>\n",
       "      <td>24.5</td>\n",
       "      <td>47.0</td>\n",
       "      <td>1018.2</td>\n",
       "      <td>False</td>\n",
       "      <td>43.0</td>\n",
       "      <td>143</td>\n",
       "      <td>0.5</td>\n",
       "    </tr>\n",
       "  </tbody>\n",
       "</table>\n",
       "<p>421 rows × 8 columns</p>\n",
       "</div>"
      ],
      "text/plain": [
       "                     Time  AirTemp  Humidity  Pressure  Rainfall  TrackTemp  \\\n",
       "15 0 days 00:15:44.766000     24.5      50.0    1018.2     False       40.0   \n",
       "17 0 days 00:17:44.769000     24.6      50.0    1018.2     False       40.4   \n",
       "18 0 days 00:18:44.792000     24.7      50.0    1018.2     False       40.7   \n",
       "21 0 days 00:21:44.771000     24.5      47.0    1018.3     False       41.4   \n",
       "22 0 days 00:22:44.795000     24.5      47.0    1018.4     False       41.2   \n",
       "..                    ...      ...       ...       ...       ...        ...   \n",
       "27 0 days 00:27:44.847000     24.8      46.0    1018.2     False       41.3   \n",
       "29 0 days 00:29:44.848000     24.8      46.0    1018.3     False       41.5   \n",
       "31 0 days 00:31:44.860000     24.8      45.0    1018.3     False       41.8   \n",
       "49 0 days 00:49:45.019000     24.3      48.0    1018.2     False       42.5   \n",
       "51 0 days 00:51:45.067000     24.5      47.0    1018.2     False       43.0   \n",
       "\n",
       "    WindDirection  WindSpeed  \n",
       "15            129        0.8  \n",
       "17              0        1.0  \n",
       "18            243        0.4  \n",
       "21            157        0.9  \n",
       "22            219        1.1  \n",
       "..            ...        ...  \n",
       "27            185        0.8  \n",
       "29            127        0.5  \n",
       "31            139        1.0  \n",
       "49              0        0.7  \n",
       "51            143        0.5  \n",
       "\n",
       "[421 rows x 8 columns]"
      ]
     },
     "execution_count": 9,
     "metadata": {},
     "output_type": "execute_result"
    }
   ],
   "source": [
    "session = fastf1.get_session(2025, 'Australia', 'FP1')\n",
    "session.load(telemetry=False)\n",
    "\n",
    "laps = session.laps\n",
    "\n",
    "all_weather = []\n",
    "\n",
    "for lap_index, lap in laps.iterlaps():\n",
    "    weather = lap.get_weather_data()\n",
    "    \n",
    "    all_weather.append(weather)\n",
    "\n",
    "weather_df = pd.DataFrame(all_weather)\n",
    "weather_df"
   ]
  },
  {
   "cell_type": "code",
   "execution_count": 10,
   "metadata": {},
   "outputs": [],
   "source": [
    "weather_df = weather_df.drop(columns=['AirTemp', 'Humidity', 'Pressure', 'Rainfall', 'WindDirection', 'WindSpeed'])"
   ]
  },
  {
   "cell_type": "code",
   "execution_count": 11,
   "metadata": {},
   "outputs": [
    {
     "data": {
      "application/vnd.microsoft.datawrangler.viewer.v0+json": {
       "columns": [
        {
         "name": "index",
         "rawType": "int64",
         "type": "integer"
        },
        {
         "name": "Time",
         "rawType": "timedelta64[ns]",
         "type": "unknown"
        },
        {
         "name": "TrackTemp",
         "rawType": "float64",
         "type": "float"
        }
       ],
       "conversionMethod": "pd.DataFrame",
       "ref": "35b8d370-2fec-4fd3-a806-043bc46562a2",
       "rows": [
        [
         "15",
         "0 days 00:15:44.766000",
         "40.0"
        ],
        [
         "17",
         "0 days 00:17:44.769000",
         "40.4"
        ],
        [
         "18",
         "0 days 00:18:44.792000",
         "40.7"
        ],
        [
         "21",
         "0 days 00:21:44.771000",
         "41.4"
        ],
        [
         "22",
         "0 days 00:22:44.795000",
         "41.2"
        ]
       ],
       "shape": {
        "columns": 2,
        "rows": 5
       }
      },
      "text/html": [
       "<div>\n",
       "<style scoped>\n",
       "    .dataframe tbody tr th:only-of-type {\n",
       "        vertical-align: middle;\n",
       "    }\n",
       "\n",
       "    .dataframe tbody tr th {\n",
       "        vertical-align: top;\n",
       "    }\n",
       "\n",
       "    .dataframe thead th {\n",
       "        text-align: right;\n",
       "    }\n",
       "</style>\n",
       "<table border=\"1\" class=\"dataframe\">\n",
       "  <thead>\n",
       "    <tr style=\"text-align: right;\">\n",
       "      <th></th>\n",
       "      <th>Time</th>\n",
       "      <th>TrackTemp</th>\n",
       "    </tr>\n",
       "  </thead>\n",
       "  <tbody>\n",
       "    <tr>\n",
       "      <th>15</th>\n",
       "      <td>0 days 00:15:44.766000</td>\n",
       "      <td>40.0</td>\n",
       "    </tr>\n",
       "    <tr>\n",
       "      <th>17</th>\n",
       "      <td>0 days 00:17:44.769000</td>\n",
       "      <td>40.4</td>\n",
       "    </tr>\n",
       "    <tr>\n",
       "      <th>18</th>\n",
       "      <td>0 days 00:18:44.792000</td>\n",
       "      <td>40.7</td>\n",
       "    </tr>\n",
       "    <tr>\n",
       "      <th>21</th>\n",
       "      <td>0 days 00:21:44.771000</td>\n",
       "      <td>41.4</td>\n",
       "    </tr>\n",
       "    <tr>\n",
       "      <th>22</th>\n",
       "      <td>0 days 00:22:44.795000</td>\n",
       "      <td>41.2</td>\n",
       "    </tr>\n",
       "  </tbody>\n",
       "</table>\n",
       "</div>"
      ],
      "text/plain": [
       "                     Time  TrackTemp\n",
       "15 0 days 00:15:44.766000       40.0\n",
       "17 0 days 00:17:44.769000       40.4\n",
       "18 0 days 00:18:44.792000       40.7\n",
       "21 0 days 00:21:44.771000       41.4\n",
       "22 0 days 00:22:44.795000       41.2"
      ]
     },
     "execution_count": 11,
     "metadata": {},
     "output_type": "execute_result"
    }
   ],
   "source": [
    "weather_df.head()"
   ]
  },
  {
   "cell_type": "code",
   "execution_count": 14,
   "metadata": {},
   "outputs": [],
   "source": [
    "weather_df.to_csv('weather_data.csv', index=False)"
   ]
  },
  {
   "cell_type": "code",
   "execution_count": 26,
   "metadata": {},
   "outputs": [
    {
     "data": {
      "image/png": "[encoded data removed]",
      "text/plain": [
       "<Figure size 1200x800 with 1 Axes>"
      ]
     },
     "metadata": {},
     "output_type": "display_data"
    }
   ],
   "source": [
    "from fastf1 import plotting\n",
    "\n",
    "fig, ax = plt.subplots(figsize=(12,8))\n",
    "\n",
    "\n",
    "ax.plot(weather_df['Time'], weather_df['TrackTemp'], color='red')\n",
    "ax.set_facecolor('grey')\n",
    "ax.set_xlabel('Time')\n",
    "ax.set_ylabel('Track temperature in C')\n",
    "ax.set_title('How does track temperature increase during free practice?')\n",
    "plt.savefig('track_temp.png')"
   ]
  },
  {
   "cell_type": "code",
   "execution_count": null,
   "metadata": {},
   "outputs": [],
   "source": []
  }
 ],
 "metadata": {
  "kernelspec": {
   "display_name": ".venv",
   "language": "python",
   "name": "python3"
  },
  "language_info": {
   "codemirror_mode": {
    "name": "ipython",
    "version": 3
   },
   "file_extension": ".py",
   "mimetype": "text/x-python",
   "name": "python",
   "nbconvert_exporter": "python",
   "pygments_lexer": "ipython3",
   "version": "3.13.1"
  }
 },
 "nbformat": 4,
 "nbformat_minor": 2
}
