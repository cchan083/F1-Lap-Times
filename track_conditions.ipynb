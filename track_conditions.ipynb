{
 "cells": [
  {
   "cell_type": "markdown",
   "metadata": {},
   "source": [
    "# Retrieving track data from fastf1 library"
   ]
  },
  {
   "cell_type": "code",
   "execution_count": 31,
   "metadata": {},
   "outputs": [],
   "source": [
    "import pandas as pd\n",
    "import matplotlib.pyplot as plt\n",
    "import fastf1"
   ]
  },
  {
   "cell_type": "code",
   "execution_count": 32,
   "metadata": {},
   "outputs": [
    {
     "name": "stderr",
     "output_type": "stream",
     "text": [
      "core           INFO \tLoading data for Monaco Grand Prix - Practice 2 [v3.5.3]\n",
      "req            INFO \tUsing cached data for session_info\n",
      "req            INFO \tUsing cached data for driver_info\n",
      "req            INFO \tUsing cached data for session_status_data\n",
      "req            INFO \tUsing cached data for track_status_data\n",
      "req            INFO \tUsing cached data for _extended_timing_data\n",
      "req            INFO \tUsing cached data for timing_app_data\n",
      "core           INFO \tProcessing timing data...\n",
      "core        WARNING \tDriver  3: Lap timing integrity check failed for 1 lap(s)\n",
      "req            INFO \tUsing cached data for weather_data\n",
      "req            INFO \tUsing cached data for race_control_messages\n",
      "core           INFO \tFinished loading data for 20 drivers: ['1', '2', '3', '4', '10', '11', '14', '16', '18', '20', '22', '23', '24', '27', '31', '44', '55', '63', '77', '81']\n",
      "core           INFO \tLoading data for Monaco Grand Prix - Practice 2 [v3.5.3]\n",
      "req            INFO \tUsing cached data for session_info\n",
      "req            INFO \tUsing cached data for driver_info\n",
      "req            INFO \tUsing cached data for session_status_data\n",
      "req            INFO \tUsing cached data for track_status_data\n",
      "req            INFO \tUsing cached data for _extended_timing_data\n",
      "req            INFO \tUsing cached data for timing_app_data\n",
      "core           INFO \tProcessing timing data...\n",
      "core        WARNING \tDriver  3: Lap timing integrity check failed for 1 lap(s)\n",
      "req            INFO \tUsing cached data for weather_data\n",
      "req            INFO \tUsing cached data for race_control_messages\n",
      "core           INFO \tFinished loading data for 20 drivers: ['1', '2', '3', '4', '10', '11', '14', '16', '18', '20', '22', '23', '24', '27', '31', '44', '55', '63', '77', '81']\n"
     ]
    },
    {
     "name": "stdout",
     "output_type": "stream",
     "text": [
      "    index                   Time  AirTemp  Humidity  Pressure  Rainfall  \\\n",
      "0      16 0 days 00:16:38.997000     20.2      70.0    1017.4     False   \n",
      "1      18 0 days 00:18:39.018000     20.3      69.0    1017.3     False   \n",
      "2      19 0 days 00:19:39.030000     20.4      68.0    1017.2     False   \n",
      "3      21 0 days 00:21:39.029000     20.6      67.0    1017.4     False   \n",
      "4      22 0 days 00:22:39.046000     20.7      67.0    1017.4     False   \n",
      "5      23 0 days 00:23:39.115000     20.7      67.0    1017.4     False   \n",
      "6      25 0 days 00:25:39.072000     20.7      68.0    1017.3     False   \n",
      "7      26 0 days 00:26:39.084000     20.7      68.0    1017.3     False   \n",
      "8      28 0 days 00:28:39.115000     20.8      68.0    1017.3     False   \n",
      "9      29 0 days 00:29:39.114000     20.9      68.0    1017.3     False   \n",
      "10     31 0 days 00:31:39.134000     20.9      69.0    1017.3     False   \n",
      "11     32 0 days 00:32:39.149000     21.0      68.0    1017.1     False   \n",
      "12     34 0 days 00:34:39.150000     21.1      66.0    1017.1     False   \n",
      "13     41 0 days 00:41:39.220000     21.3      65.0    1017.1     False   \n",
      "14     42 0 days 00:42:39.228000     21.2      66.0    1017.0     False   \n",
      "15     43 0 days 00:43:39.220000     21.1      66.0    1017.0     False   \n",
      "16     45 0 days 00:45:39.227000     21.1      65.0    1017.1     False   \n",
      "17     47 0 days 00:47:39.252000     21.1      65.0    1017.2     False   \n",
      "18     48 0 days 00:48:39.256000     21.1      66.0    1017.0     False   \n",
      "19     50 0 days 00:50:39.285000     21.0      66.0    1017.0     False   \n",
      "20     51 0 days 00:51:39.303000     20.9      65.0    1017.0     False   \n",
      "21     53 0 days 00:53:39.288000     20.9      64.0    1017.0     False   \n",
      "22     55 0 days 00:55:39.290000     21.0      64.0    1016.9     False   \n",
      "23     56 0 days 00:56:39.287000     20.9      64.0    1017.0     False   \n",
      "24     63 0 days 01:03:39.339000     20.9      65.0    1016.9     False   \n",
      "25     64 0 days 01:04:39.351000     20.8      66.0    1016.9     False   \n",
      "26     65 0 days 01:05:39.350000     20.6      66.0    1016.8     False   \n",
      "27     67 0 days 01:07:39.377000     20.6      66.0    1017.0     False   \n",
      "28     68 0 days 01:08:39.391000     20.6      66.0    1017.0     False   \n",
      "29     69 0 days 01:09:39.405000     20.7      66.0    1017.0     False   \n",
      "30     70 0 days 01:10:39.423000     20.7      65.0    1016.9     False   \n",
      "31     72 0 days 01:12:39.425000     20.7      66.0    1017.0     False   \n",
      "32     73 0 days 01:13:39.427000     20.8      66.0    1017.0     False   \n",
      "33     74 0 days 01:14:39.427000     20.7      66.0    1017.0     False   \n",
      "34     76 0 days 01:16:39.591000     20.7      65.0    1017.0     False   \n",
      "35     78 0 days 01:18:39.601000     20.9      64.0    1017.0     False   \n",
      "\n",
      "    TrackTemp  WindDirection  WindSpeed  \n",
      "0        31.5              4        0.6  \n",
      "1        32.1             42        0.8  \n",
      "2        32.1            191        0.9  \n",
      "3        32.0            180        0.3  \n",
      "4        31.3            173        1.0  \n",
      "5        31.2             63        0.7  \n",
      "6        30.7             58        0.8  \n",
      "7        30.6             90        0.6  \n",
      "8        30.5            166        0.6  \n",
      "9        30.3            124        0.9  \n",
      "10       30.5            203        0.8  \n",
      "11       30.9             61        0.8  \n",
      "12       31.2             17        0.7  \n",
      "13       31.8            262        0.7  \n",
      "14       31.8            209        0.5  \n",
      "15       32.3              0        0.3  \n",
      "16       32.5            247        0.6  \n",
      "17       32.4              0        1.2  \n",
      "18       31.4             90        0.3  \n",
      "19       31.5            214        1.1  \n",
      "20       31.4            228        1.0  \n",
      "21       31.3            260        0.7  \n",
      "22       31.0            201        0.4  \n",
      "23       31.1            220        1.1  \n",
      "24       30.6             10        0.8  \n",
      "25       30.6            254        0.7  \n",
      "26       30.5            341        1.1  \n",
      "27       30.0            248        0.7  \n",
      "28       30.3            215        0.7  \n",
      "29       30.5            194        1.4  \n",
      "30       30.5            215        1.1  \n",
      "31       30.8            197        0.5  \n",
      "32       30.9            203        1.7  \n",
      "33       31.1            224        1.4  \n",
      "34       31.1            188        1.2  \n",
      "35       31.0              0        0.0  \n"
     ]
    }
   ],
   "source": [
    "session = fastf1.get_session(2024, 'Monaco', 'FP2')\n",
    "session.load(telemetry=False)\n",
    "\n",
    "session.load(telemetry=False)\n",
    "\n",
    "# Get all laps data\n",
    "laps = session.laps\n",
    "\n",
    "# Specify the driver you're interested in\n",
    "driver_name = \"TSU\"  # Replace this with the driver's name or identifier\n",
    "\n",
    "# Initialize a list to store weather data for the specific driver\n",
    "driver_weather = []\n",
    "\n",
    "# Loop through each lap and filter by driver\n",
    "for lap_index, lap in laps.iterlaps():\n",
    "    # Check if the lap corresponds to the specified driver\n",
    "    if lap['Driver'] == driver_name:\n",
    "        # Get weather data for that lap\n",
    "        weather = lap.get_weather_data()\n",
    "        # Add weather data to the list\n",
    "        driver_weather.append(weather)\n",
    "\n",
    "# Create a DataFrame from the weather data\n",
    "weather_df = pd.DataFrame(driver_weather).reset_index()\n",
    "\n",
    "# Display the DataFrame\n",
    "print(weather_df)"
   ]
  },
  {
   "cell_type": "code",
   "execution_count": 33,
   "metadata": {},
   "outputs": [],
   "source": [
    "weather_df = weather_df.drop(columns=['AirTemp', 'Pressure', 'Rainfall', 'WindDirection'])"
   ]
  },
  {
   "cell_type": "code",
   "execution_count": 34,
   "metadata": {},
   "outputs": [
    {
     "data": {
      "application/vnd.microsoft.datawrangler.viewer.v0+json": {
       "columns": [
        {
         "name": "index",
         "rawType": "int64",
         "type": "integer"
        },
        {
         "name": "index",
         "rawType": "int64",
         "type": "integer"
        },
        {
         "name": "Time",
         "rawType": "timedelta64[ns]",
         "type": "unknown"
        },
        {
         "name": "Humidity",
         "rawType": "float64",
         "type": "float"
        },
        {
         "name": "TrackTemp",
         "rawType": "float64",
         "type": "float"
        },
        {
         "name": "WindSpeed",
         "rawType": "float64",
         "type": "float"
        }
       ],
       "conversionMethod": "pd.DataFrame",
       "ref": "3d3201db-6243-4e00-9a74-b136f7c75bd9",
       "rows": [
        [
         "0",
         "16",
         "0 days 00:16:38.997000",
         "70.0",
         "31.5",
         "0.6"
        ],
        [
         "1",
         "18",
         "0 days 00:18:39.018000",
         "69.0",
         "32.1",
         "0.8"
        ],
        [
         "2",
         "19",
         "0 days 00:19:39.030000",
         "68.0",
         "32.1",
         "0.9"
        ],
        [
         "3",
         "21",
         "0 days 00:21:39.029000",
         "67.0",
         "32.0",
         "0.3"
        ],
        [
         "4",
         "22",
         "0 days 00:22:39.046000",
         "67.0",
         "31.3",
         "1.0"
        ]
       ],
       "shape": {
        "columns": 5,
        "rows": 5
       }
      },
      "text/html": [
       "<div>\n",
       "<style scoped>\n",
       "    .dataframe tbody tr th:only-of-type {\n",
       "        vertical-align: middle;\n",
       "    }\n",
       "\n",
       "    .dataframe tbody tr th {\n",
       "        vertical-align: top;\n",
       "    }\n",
       "\n",
       "    .dataframe thead th {\n",
       "        text-align: right;\n",
       "    }\n",
       "</style>\n",
       "<table border=\"1\" class=\"dataframe\">\n",
       "  <thead>\n",
       "    <tr style=\"text-align: right;\">\n",
       "      <th></th>\n",
       "      <th>index</th>\n",
       "      <th>Time</th>\n",
       "      <th>Humidity</th>\n",
       "      <th>TrackTemp</th>\n",
       "      <th>WindSpeed</th>\n",
       "    </tr>\n",
       "  </thead>\n",
       "  <tbody>\n",
       "    <tr>\n",
       "      <th>0</th>\n",
       "      <td>16</td>\n",
       "      <td>0 days 00:16:38.997000</td>\n",
       "      <td>70.0</td>\n",
       "      <td>31.5</td>\n",
       "      <td>0.6</td>\n",
       "    </tr>\n",
       "    <tr>\n",
       "      <th>1</th>\n",
       "      <td>18</td>\n",
       "      <td>0 days 00:18:39.018000</td>\n",
       "      <td>69.0</td>\n",
       "      <td>32.1</td>\n",
       "      <td>0.8</td>\n",
       "    </tr>\n",
       "    <tr>\n",
       "      <th>2</th>\n",
       "      <td>19</td>\n",
       "      <td>0 days 00:19:39.030000</td>\n",
       "      <td>68.0</td>\n",
       "      <td>32.1</td>\n",
       "      <td>0.9</td>\n",
       "    </tr>\n",
       "    <tr>\n",
       "      <th>3</th>\n",
       "      <td>21</td>\n",
       "      <td>0 days 00:21:39.029000</td>\n",
       "      <td>67.0</td>\n",
       "      <td>32.0</td>\n",
       "      <td>0.3</td>\n",
       "    </tr>\n",
       "    <tr>\n",
       "      <th>4</th>\n",
       "      <td>22</td>\n",
       "      <td>0 days 00:22:39.046000</td>\n",
       "      <td>67.0</td>\n",
       "      <td>31.3</td>\n",
       "      <td>1.0</td>\n",
       "    </tr>\n",
       "  </tbody>\n",
       "</table>\n",
       "</div>"
      ],
      "text/plain": [
       "   index                   Time  Humidity  TrackTemp  WindSpeed\n",
       "0     16 0 days 00:16:38.997000      70.0       31.5        0.6\n",
       "1     18 0 days 00:18:39.018000      69.0       32.1        0.8\n",
       "2     19 0 days 00:19:39.030000      68.0       32.1        0.9\n",
       "3     21 0 days 00:21:39.029000      67.0       32.0        0.3\n",
       "4     22 0 days 00:22:39.046000      67.0       31.3        1.0"
      ]
     },
     "execution_count": 34,
     "metadata": {},
     "output_type": "execute_result"
    }
   ],
   "source": [
    "weather_df.head()"
   ]
  },
  {
   "cell_type": "code",
   "execution_count": 37,
   "metadata": {},
   "outputs": [],
   "source": [
    "weather_df.to_csv('weather_data.csv', index=False)"
   ]
  },
  {
   "cell_type": "code",
   "execution_count": 36,
   "metadata": {},
   "outputs": [
    {
     "data": {
      "image/png": "[encoded data removed]",
      "text/plain": [
       "<Figure size 1200x800 with 1 Axes>"
      ]
     },
     "metadata": {},
     "output_type": "display_data"
    }
   ],
   "source": [
    "from fastf1 import plotting\n",
    "\n",
    "fig, ax = plt.subplots(figsize=(12,8))\n",
    "\n",
    "\n",
    "ax.plot(weather_df['Time'], weather_df['TrackTemp'], color='red')\n",
    "ax.set_facecolor('grey')\n",
    "ax.set_xlabel('Time')\n",
    "ax.set_ylabel('Track temperature in C')\n",
    "ax.set_title('How does track temperature increase during free practice?')\n",
    "plt.savefig('track_temp_fp3.png')"
   ]
  },
  {
   "cell_type": "code",
   "execution_count": null,
   "metadata": {},
   "outputs": [],
   "source": []
  }
 ],
 "metadata": {
  "kernelspec": {
   "display_name": ".venv",
   "language": "python",
   "name": "python3"
  },
  "language_info": {
   "codemirror_mode": {
    "name": "ipython",
    "version": 3
   },
   "file_extension": ".py",
   "mimetype": "text/x-python",
   "name": "python",
   "nbconvert_exporter": "python",
   "pygments_lexer": "ipython3",
   "version": "3.13.1"
  }
 },
 "nbformat": 4,
 "nbformat_minor": 2
}
