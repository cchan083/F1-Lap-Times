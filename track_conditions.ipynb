{
 "cells": [
  {
   "cell_type": "markdown",
   "metadata": {},
   "source": [
    "# Retrieving track data from fastf1 library"
   ]
  },
  {
   "cell_type": "code",
   "execution_count": 2,
   "metadata": {},
   "outputs": [],
   "source": [
    "import pandas as pd\n",
    "import matplotlib.pyplot as plt\n",
    "import fastf1"
   ]
  },
  {
   "cell_type": "code",
   "execution_count": 3,
   "metadata": {},
   "outputs": [
    {
     "name": "stderr",
     "output_type": "stream",
     "text": [
      "req         WARNING \tDEFAULT CACHE ENABLED! (446.5 MB) C:\\Users\\chchr\\AppData\\Local\\Temp\\fastf1\n",
      "core           INFO \tLoading data for Monaco Grand Prix - Practice 1 [v3.5.3]\n",
      "req            INFO \tUsing cached data for session_info\n",
      "req            INFO \tUsing cached data for driver_info\n",
      "req            INFO \tUsing cached data for session_status_data\n",
      "req            INFO \tUsing cached data for track_status_data\n",
      "req            INFO \tUsing cached data for _extended_timing_data\n",
      "req            INFO \tUsing cached data for timing_app_data\n",
      "core           INFO \tProcessing timing data...\n",
      "req            INFO \tUsing cached data for weather_data\n",
      "req            INFO \tUsing cached data for race_control_messages\n",
      "core           INFO \tFinished loading data for 20 drivers: ['1', '2', '3', '4', '10', '11', '14', '16', '18', '20', '22', '23', '24', '27', '31', '44', '55', '63', '77', '81']\n"
     ]
    },
    {
     "data": {
      "application/vnd.microsoft.datawrangler.viewer.v0+json": {
       "columns": [
        {
         "name": "index",
         "rawType": "int64",
         "type": "integer"
        },
        {
         "name": "Time",
         "rawType": "timedelta64[ns]",
         "type": "unknown"
        },
        {
         "name": "AirTemp",
         "rawType": "float64",
         "type": "float"
        },
        {
         "name": "Humidity",
         "rawType": "float64",
         "type": "float"
        },
        {
         "name": "Pressure",
         "rawType": "float64",
         "type": "float"
        },
        {
         "name": "Rainfall",
         "rawType": "bool",
         "type": "boolean"
        },
        {
         "name": "TrackTemp",
         "rawType": "float64",
         "type": "float"
        },
        {
         "name": "WindDirection",
         "rawType": "int64",
         "type": "integer"
        },
        {
         "name": "WindSpeed",
         "rawType": "float64",
         "type": "float"
        }
       ],
       "conversionMethod": "pd.DataFrame",
       "ref": "c3ddfa73-29bd-4bbd-b69e-ef61d1eed355",
       "rows": [
        [
         "12",
         "0 days 00:12:55.707000",
         "19.9",
         "70.0",
         "1018.5",
         "False",
         "36.5",
         "156",
         "0.9"
        ],
        [
         "14",
         "0 days 00:14:55.714000",
         "20.0",
         "69.0",
         "1018.4",
         "False",
         "36.5",
         "0",
         "0.9"
        ],
        [
         "15",
         "0 days 00:15:55.725000",
         "20.0",
         "70.0",
         "1018.5",
         "False",
         "36.7",
         "200",
         "0.4"
        ],
        [
         "17",
         "0 days 00:17:55.760000",
         "20.0",
         "70.0",
         "1018.5",
         "False",
         "36.7",
         "0",
         "0.5"
        ],
        [
         "18",
         "0 days 00:18:55.825000",
         "20.1",
         "69.0",
         "1018.5",
         "False",
         "37.1",
         "222",
         "1.1"
        ],
        [
         "20",
         "0 days 00:20:55.821000",
         "20.5",
         "67.0",
         "1018.7",
         "False",
         "36.8",
         "207",
         "0.5"
        ],
        [
         "21",
         "0 days 00:21:55.823000",
         "20.6",
         "67.0",
         "1018.6",
         "True",
         "36.6",
         "0",
         "0.8"
        ],
        [
         "23",
         "0 days 00:23:55.839000",
         "20.6",
         "68.0",
         "1018.5",
         "True",
         "36.8",
         "204",
         "0.7"
        ],
        [
         "24",
         "0 days 00:24:55.841000",
         "20.7",
         "67.0",
         "1018.5",
         "True",
         "37.2",
         "174",
         "0.7"
        ],
        [
         "33",
         "0 days 00:33:55.856000",
         "20.9",
         "64.0",
         "1018.4",
         "False",
         "35.0",
         "359",
         "0.8"
        ],
        [
         "34",
         "0 days 00:34:55.862000",
         "20.8",
         "64.0",
         "1018.4",
         "False",
         "34.7",
         "273",
         "0.9"
        ],
        [
         "36",
         "0 days 00:36:55.894000",
         "20.9",
         "64.0",
         "1018.3",
         "False",
         "34.9",
         "192",
         "0.7"
        ],
        [
         "37",
         "0 days 00:37:55.900000",
         "20.9",
         "63.0",
         "1018.4",
         "False",
         "34.9",
         "197",
         "1.2"
        ],
        [
         "38",
         "0 days 00:38:55.900000",
         "21.0",
         "63.0",
         "1018.3",
         "False",
         "34.2",
         "215",
         "0.9"
        ],
        [
         "40",
         "0 days 00:40:55.922000",
         "20.9",
         "64.0",
         "1018.3",
         "False",
         "34.3",
         "268",
         "0.8"
        ],
        [
         "41",
         "0 days 00:41:55.930000",
         "20.9",
         "64.0",
         "1018.4",
         "False",
         "34.6",
         "0",
         "0.4"
        ],
        [
         "43",
         "0 days 00:43:56.103000",
         "21.0",
         "62.0",
         "1018.3",
         "False",
         "34.3",
         "349",
         "0.8"
        ],
        [
         "45",
         "0 days 00:45:56.105000",
         "20.9",
         "64.0",
         "1018.3",
         "False",
         "32.9",
         "161",
         "1.1"
        ],
        [
         "46",
         "0 days 00:46:56.103000",
         "20.9",
         "63.0",
         "1018.3",
         "False",
         "32.8",
         "31",
         "0.8"
        ],
        [
         "56",
         "0 days 00:56:56.130000",
         "21.1",
         "68.0",
         "1018.2",
         "False",
         "34.5",
         "77",
         "0.6"
        ],
        [
         "62",
         "0 days 01:02:56.116000",
         "21.0",
         "69.0",
         "1018.1",
         "False",
         "35.2",
         "33",
         "0.0"
        ],
        [
         "63",
         "0 days 01:03:56.165000",
         "21.0",
         "68.0",
         "1018.0",
         "True",
         "35.3",
         "351",
         "0.6"
        ],
        [
         "65",
         "0 days 01:05:56.116000",
         "20.8",
         "67.0",
         "1017.9",
         "False",
         "37.2",
         "339",
         "0.7"
        ],
        [
         "66",
         "0 days 01:06:56.121000",
         "20.9",
         "67.0",
         "1017.9",
         "False",
         "37.2",
         "184",
         "1.0"
        ],
        [
         "68",
         "0 days 01:08:56.121000",
         "21.1",
         "66.0",
         "1017.8",
         "False",
         "36.2",
         "0",
         "0.4"
        ],
        [
         "69",
         "0 days 01:09:56.124000",
         "21.2",
         "67.0",
         "1017.9",
         "False",
         "35.5",
         "192",
         "0.5"
        ],
        [
         "71",
         "0 days 01:11:56.130000",
         "21.5",
         "64.0",
         "1017.8",
         "False",
         "35.4",
         "223",
         "1.3"
        ],
        [
         "72",
         "0 days 01:12:56.125000",
         "21.4",
         "64.0",
         "1017.8",
         "False",
         "35.4",
         "218",
         "0.9"
        ],
        [
         "74",
         "0 days 01:14:56.126000",
         "21.5",
         "61.0",
         "1017.7",
         "False",
         "35.7",
         "311",
         "0.8"
        ],
        [
         "12",
         "0 days 00:12:55.707000",
         "19.9",
         "70.0",
         "1018.5",
         "False",
         "36.5",
         "156",
         "0.9"
        ],
        [
         "14",
         "0 days 00:14:55.714000",
         "20.0",
         "69.0",
         "1018.4",
         "False",
         "36.5",
         "0",
         "0.9"
        ],
        [
         "15",
         "0 days 00:15:55.725000",
         "20.0",
         "70.0",
         "1018.5",
         "False",
         "36.7",
         "200",
         "0.4"
        ],
        [
         "16",
         "0 days 00:16:55.741000",
         "20.0",
         "70.0",
         "1018.6",
         "False",
         "36.1",
         "217",
         "1.0"
        ],
        [
         "18",
         "0 days 00:18:55.825000",
         "20.1",
         "69.0",
         "1018.5",
         "False",
         "37.1",
         "222",
         "1.1"
        ],
        [
         "19",
         "0 days 00:19:55.822000",
         "20.3",
         "67.0",
         "1018.5",
         "False",
         "37.8",
         "34",
         "0.8"
        ],
        [
         "21",
         "0 days 00:21:55.823000",
         "20.6",
         "67.0",
         "1018.6",
         "True",
         "36.6",
         "0",
         "0.8"
        ],
        [
         "22",
         "0 days 00:22:55.838000",
         "20.6",
         "68.0",
         "1018.6",
         "True",
         "36.5",
         "0",
         "0.5"
        ],
        [
         "24",
         "0 days 00:24:55.841000",
         "20.7",
         "67.0",
         "1018.5",
         "True",
         "37.2",
         "174",
         "0.7"
        ],
        [
         "25",
         "0 days 00:25:55.846000",
         "20.8",
         "65.0",
         "1018.5",
         "True",
         "37.2",
         "269",
         "0.9"
        ],
        [
         "27",
         "0 days 00:27:55.844000",
         "20.8",
         "65.0",
         "1018.6",
         "False",
         "36.2",
         "0",
         "0.8"
        ],
        [
         "28",
         "0 days 00:28:55.845000",
         "20.9",
         "65.0",
         "1018.5",
         "False",
         "36.0",
         "199",
         "0.3"
        ],
        [
         "30",
         "0 days 00:30:55.864000",
         "20.8",
         "66.0",
         "1018.4",
         "False",
         "35.2",
         "188",
         "0.4"
        ],
        [
         "33",
         "0 days 00:33:55.856000",
         "20.9",
         "64.0",
         "1018.4",
         "False",
         "35.0",
         "359",
         "0.8"
        ],
        [
         "35",
         "0 days 00:35:55.877000",
         "20.8",
         "64.0",
         "1018.4",
         "False",
         "34.7",
         "170",
         "0.3"
        ],
        [
         "36",
         "0 days 00:36:55.894000",
         "20.9",
         "64.0",
         "1018.3",
         "False",
         "34.9",
         "192",
         "0.7"
        ],
        [
         "37",
         "0 days 00:37:55.900000",
         "20.9",
         "63.0",
         "1018.4",
         "False",
         "34.9",
         "197",
         "1.2"
        ],
        [
         "39",
         "0 days 00:39:55.912000",
         "20.9",
         "65.0",
         "1018.3",
         "False",
         "33.9",
         "149",
         "1.3"
        ],
        [
         "40",
         "0 days 00:40:55.922000",
         "20.9",
         "64.0",
         "1018.3",
         "False",
         "34.3",
         "268",
         "0.8"
        ],
        [
         "42",
         "0 days 00:42:56.113000",
         "20.9",
         "63.0",
         "1018.3",
         "False",
         "34.5",
         "173",
         "0.3"
        ],
        [
         "49",
         "0 days 00:49:56.110000",
         "20.6",
         "67.0",
         "1018.2",
         "False",
         "32.9",
         "118",
         "0.8"
        ]
       ],
       "shape": {
        "columns": 8,
        "rows": 620
       }
      },
      "text/html": [
       "<div>\n",
       "<style scoped>\n",
       "    .dataframe tbody tr th:only-of-type {\n",
       "        vertical-align: middle;\n",
       "    }\n",
       "\n",
       "    .dataframe tbody tr th {\n",
       "        vertical-align: top;\n",
       "    }\n",
       "\n",
       "    .dataframe thead th {\n",
       "        text-align: right;\n",
       "    }\n",
       "</style>\n",
       "<table border=\"1\" class=\"dataframe\">\n",
       "  <thead>\n",
       "    <tr style=\"text-align: right;\">\n",
       "      <th></th>\n",
       "      <th>Time</th>\n",
       "      <th>AirTemp</th>\n",
       "      <th>Humidity</th>\n",
       "      <th>Pressure</th>\n",
       "      <th>Rainfall</th>\n",
       "      <th>TrackTemp</th>\n",
       "      <th>WindDirection</th>\n",
       "      <th>WindSpeed</th>\n",
       "    </tr>\n",
       "  </thead>\n",
       "  <tbody>\n",
       "    <tr>\n",
       "      <th>12</th>\n",
       "      <td>0 days 00:12:55.707000</td>\n",
       "      <td>19.9</td>\n",
       "      <td>70.0</td>\n",
       "      <td>1018.5</td>\n",
       "      <td>False</td>\n",
       "      <td>36.5</td>\n",
       "      <td>156</td>\n",
       "      <td>0.9</td>\n",
       "    </tr>\n",
       "    <tr>\n",
       "      <th>14</th>\n",
       "      <td>0 days 00:14:55.714000</td>\n",
       "      <td>20.0</td>\n",
       "      <td>69.0</td>\n",
       "      <td>1018.4</td>\n",
       "      <td>False</td>\n",
       "      <td>36.5</td>\n",
       "      <td>0</td>\n",
       "      <td>0.9</td>\n",
       "    </tr>\n",
       "    <tr>\n",
       "      <th>15</th>\n",
       "      <td>0 days 00:15:55.725000</td>\n",
       "      <td>20.0</td>\n",
       "      <td>70.0</td>\n",
       "      <td>1018.5</td>\n",
       "      <td>False</td>\n",
       "      <td>36.7</td>\n",
       "      <td>200</td>\n",
       "      <td>0.4</td>\n",
       "    </tr>\n",
       "    <tr>\n",
       "      <th>17</th>\n",
       "      <td>0 days 00:17:55.760000</td>\n",
       "      <td>20.0</td>\n",
       "      <td>70.0</td>\n",
       "      <td>1018.5</td>\n",
       "      <td>False</td>\n",
       "      <td>36.7</td>\n",
       "      <td>0</td>\n",
       "      <td>0.5</td>\n",
       "    </tr>\n",
       "    <tr>\n",
       "      <th>18</th>\n",
       "      <td>0 days 00:18:55.825000</td>\n",
       "      <td>20.1</td>\n",
       "      <td>69.0</td>\n",
       "      <td>1018.5</td>\n",
       "      <td>False</td>\n",
       "      <td>37.1</td>\n",
       "      <td>222</td>\n",
       "      <td>1.1</td>\n",
       "    </tr>\n",
       "    <tr>\n",
       "      <th>...</th>\n",
       "      <td>...</td>\n",
       "      <td>...</td>\n",
       "      <td>...</td>\n",
       "      <td>...</td>\n",
       "      <td>...</td>\n",
       "      <td>...</td>\n",
       "      <td>...</td>\n",
       "      <td>...</td>\n",
       "    </tr>\n",
       "    <tr>\n",
       "      <th>68</th>\n",
       "      <td>0 days 01:08:56.121000</td>\n",
       "      <td>21.1</td>\n",
       "      <td>66.0</td>\n",
       "      <td>1017.8</td>\n",
       "      <td>False</td>\n",
       "      <td>36.2</td>\n",
       "      <td>0</td>\n",
       "      <td>0.4</td>\n",
       "    </tr>\n",
       "    <tr>\n",
       "      <th>70</th>\n",
       "      <td>0 days 01:10:56.123000</td>\n",
       "      <td>21.3</td>\n",
       "      <td>65.0</td>\n",
       "      <td>1017.8</td>\n",
       "      <td>False</td>\n",
       "      <td>35.5</td>\n",
       "      <td>209</td>\n",
       "      <td>0.5</td>\n",
       "    </tr>\n",
       "    <tr>\n",
       "      <th>71</th>\n",
       "      <td>0 days 01:11:56.130000</td>\n",
       "      <td>21.5</td>\n",
       "      <td>64.0</td>\n",
       "      <td>1017.8</td>\n",
       "      <td>False</td>\n",
       "      <td>35.4</td>\n",
       "      <td>223</td>\n",
       "      <td>1.3</td>\n",
       "    </tr>\n",
       "    <tr>\n",
       "      <th>72</th>\n",
       "      <td>0 days 01:12:56.125000</td>\n",
       "      <td>21.4</td>\n",
       "      <td>64.0</td>\n",
       "      <td>1017.8</td>\n",
       "      <td>False</td>\n",
       "      <td>35.4</td>\n",
       "      <td>218</td>\n",
       "      <td>0.9</td>\n",
       "    </tr>\n",
       "    <tr>\n",
       "      <th>75</th>\n",
       "      <td>0 days 01:15:56.160000</td>\n",
       "      <td>21.5</td>\n",
       "      <td>61.0</td>\n",
       "      <td>1017.7</td>\n",
       "      <td>False</td>\n",
       "      <td>35.7</td>\n",
       "      <td>311</td>\n",
       "      <td>0.8</td>\n",
       "    </tr>\n",
       "  </tbody>\n",
       "</table>\n",
       "<p>620 rows × 8 columns</p>\n",
       "</div>"
      ],
      "text/plain": [
       "                     Time  AirTemp  Humidity  Pressure  Rainfall  TrackTemp  \\\n",
       "12 0 days 00:12:55.707000     19.9      70.0    1018.5     False       36.5   \n",
       "14 0 days 00:14:55.714000     20.0      69.0    1018.4     False       36.5   \n",
       "15 0 days 00:15:55.725000     20.0      70.0    1018.5     False       36.7   \n",
       "17 0 days 00:17:55.760000     20.0      70.0    1018.5     False       36.7   \n",
       "18 0 days 00:18:55.825000     20.1      69.0    1018.5     False       37.1   \n",
       "..                    ...      ...       ...       ...       ...        ...   \n",
       "68 0 days 01:08:56.121000     21.1      66.0    1017.8     False       36.2   \n",
       "70 0 days 01:10:56.123000     21.3      65.0    1017.8     False       35.5   \n",
       "71 0 days 01:11:56.130000     21.5      64.0    1017.8     False       35.4   \n",
       "72 0 days 01:12:56.125000     21.4      64.0    1017.8     False       35.4   \n",
       "75 0 days 01:15:56.160000     21.5      61.0    1017.7     False       35.7   \n",
       "\n",
       "    WindDirection  WindSpeed  \n",
       "12            156        0.9  \n",
       "14              0        0.9  \n",
       "15            200        0.4  \n",
       "17              0        0.5  \n",
       "18            222        1.1  \n",
       "..            ...        ...  \n",
       "68              0        0.4  \n",
       "70            209        0.5  \n",
       "71            223        1.3  \n",
       "72            218        0.9  \n",
       "75            311        0.8  \n",
       "\n",
       "[620 rows x 8 columns]"
      ]
     },
     "execution_count": 3,
     "metadata": {},
     "output_type": "execute_result"
    }
   ],
   "source": [
    "session = fastf1.get_session(2024, 'Monaco', 'FP1')\n",
    "session.load(telemetry=False)\n",
    "\n",
    "laps = session.laps\n",
    "\n",
    "all_weather = []\n",
    "\n",
    "for lap_index, lap in laps.iterlaps():\n",
    "    weather = lap.get_weather_data()\n",
    "    \n",
    "    all_weather.append(weather)\n",
    "\n",
    "weather_df = pd.DataFrame(all_weather)\n",
    "weather_df"
   ]
  },
  {
   "cell_type": "code",
   "execution_count": 4,
   "metadata": {},
   "outputs": [],
   "source": [
    "weather_df = weather_df.drop(columns=['AirTemp', 'Humidity', 'Pressure', 'Rainfall', 'WindDirection', 'WindSpeed'])"
   ]
  },
  {
   "cell_type": "code",
   "execution_count": 5,
   "metadata": {},
   "outputs": [
    {
     "data": {
      "application/vnd.microsoft.datawrangler.viewer.v0+json": {
       "columns": [
        {
         "name": "index",
         "rawType": "int64",
         "type": "integer"
        },
        {
         "name": "Time",
         "rawType": "timedelta64[ns]",
         "type": "unknown"
        },
        {
         "name": "TrackTemp",
         "rawType": "float64",
         "type": "float"
        }
       ],
       "conversionMethod": "pd.DataFrame",
       "ref": "7de45b1a-2baa-419b-879b-5e199777f786",
       "rows": [
        [
         "12",
         "0 days 00:12:55.707000",
         "36.5"
        ],
        [
         "14",
         "0 days 00:14:55.714000",
         "36.5"
        ],
        [
         "15",
         "0 days 00:15:55.725000",
         "36.7"
        ],
        [
         "17",
         "0 days 00:17:55.760000",
         "36.7"
        ],
        [
         "18",
         "0 days 00:18:55.825000",
         "37.1"
        ]
       ],
       "shape": {
        "columns": 2,
        "rows": 5
       }
      },
      "text/html": [
       "<div>\n",
       "<style scoped>\n",
       "    .dataframe tbody tr th:only-of-type {\n",
       "        vertical-align: middle;\n",
       "    }\n",
       "\n",
       "    .dataframe tbody tr th {\n",
       "        vertical-align: top;\n",
       "    }\n",
       "\n",
       "    .dataframe thead th {\n",
       "        text-align: right;\n",
       "    }\n",
       "</style>\n",
       "<table border=\"1\" class=\"dataframe\">\n",
       "  <thead>\n",
       "    <tr style=\"text-align: right;\">\n",
       "      <th></th>\n",
       "      <th>Time</th>\n",
       "      <th>TrackTemp</th>\n",
       "    </tr>\n",
       "  </thead>\n",
       "  <tbody>\n",
       "    <tr>\n",
       "      <th>12</th>\n",
       "      <td>0 days 00:12:55.707000</td>\n",
       "      <td>36.5</td>\n",
       "    </tr>\n",
       "    <tr>\n",
       "      <th>14</th>\n",
       "      <td>0 days 00:14:55.714000</td>\n",
       "      <td>36.5</td>\n",
       "    </tr>\n",
       "    <tr>\n",
       "      <th>15</th>\n",
       "      <td>0 days 00:15:55.725000</td>\n",
       "      <td>36.7</td>\n",
       "    </tr>\n",
       "    <tr>\n",
       "      <th>17</th>\n",
       "      <td>0 days 00:17:55.760000</td>\n",
       "      <td>36.7</td>\n",
       "    </tr>\n",
       "    <tr>\n",
       "      <th>18</th>\n",
       "      <td>0 days 00:18:55.825000</td>\n",
       "      <td>37.1</td>\n",
       "    </tr>\n",
       "  </tbody>\n",
       "</table>\n",
       "</div>"
      ],
      "text/plain": [
       "                     Time  TrackTemp\n",
       "12 0 days 00:12:55.707000       36.5\n",
       "14 0 days 00:14:55.714000       36.5\n",
       "15 0 days 00:15:55.725000       36.7\n",
       "17 0 days 00:17:55.760000       36.7\n",
       "18 0 days 00:18:55.825000       37.1"
      ]
     },
     "execution_count": 5,
     "metadata": {},
     "output_type": "execute_result"
    }
   ],
   "source": [
    "weather_df.head()"
   ]
  },
  {
   "cell_type": "code",
   "execution_count": 6,
   "metadata": {},
   "outputs": [],
   "source": [
    "weather_df.to_csv('weather_data.csv', index=False)"
   ]
  },
  {
   "cell_type": "code",
   "execution_count": 7,
   "metadata": {},
   "outputs": [
    {
     "data": {
      "image/png": "[encoded data removed]",
      "text/plain": [
       "<Figure size 1200x800 with 1 Axes>"
      ]
     },
     "metadata": {},
     "output_type": "display_data"
    }
   ],
   "source": [
    "from fastf1 import plotting\n",
    "\n",
    "fig, ax = plt.subplots(figsize=(12,8))\n",
    "\n",
    "\n",
    "ax.plot(weather_df['Time'], weather_df['TrackTemp'], color='red')\n",
    "ax.set_facecolor('grey')\n",
    "ax.set_xlabel('Time')\n",
    "ax.set_ylabel('Track temperature in C')\n",
    "ax.set_title('How does track temperature increase during free practice?')\n",
    "plt.savefig('track_temp.png')"
   ]
  },
  {
   "cell_type": "code",
   "execution_count": null,
   "metadata": {},
   "outputs": [],
   "source": []
  }
 ],
 "metadata": {
  "kernelspec": {
   "display_name": ".venv",
   "language": "python",
   "name": "python3"
  },
  "language_info": {
   "codemirror_mode": {
    "name": "ipython",
    "version": 3
   },
   "file_extension": ".py",
   "mimetype": "text/x-python",
   "name": "python",
   "nbconvert_exporter": "python",
   "pygments_lexer": "ipython3",
   "version": "3.13.1"
  }
 },
 "nbformat": 4,
 "nbformat_minor": 2
}
